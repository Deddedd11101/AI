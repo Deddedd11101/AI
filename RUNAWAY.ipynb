{
  "nbformat": 4,
  "nbformat_minor": 0,
  "metadata": {
    "colab": {
      "provenance": [],
      "authorship_tag": "ABX9TyM9+ICvO4wbcnIS7Tv0EKkO",
      "include_colab_link": true
    },
    "kernelspec": {
      "name": "python3",
      "display_name": "Python 3"
    },
    "language_info": {
      "name": "python"
    }
  },
  "cells": [
    {
      "cell_type": "markdown",
      "metadata": {
        "id": "view-in-github",
        "colab_type": "text"
      },
      "source": [
        "<a href=\"https://colab.research.google.com/github/Deddedd11101/AI/blob/master/Untitled0.ipynb\" target=\"_parent\"><img src=\"https://colab.research.google.com/assets/colab-badge.svg\" alt=\"Open In Colab\"/></a>"
      ]
    },
    {
      "cell_type": "code",
      "source": [
        "import pandas as pd \n",
        "import numpy as np \n",
        "import seaborn as sns\n",
        "%matplotlib inline\n",
        "from matplotlib import pyplot as plt\n",
        "df = pd.read_csv(\"/content/runaway.csv\")"
      ],
      "metadata": {
        "id": "U2bTTkwwikDD"
      },
      "execution_count": null,
      "outputs": []
    },
    {
      "cell_type": "code",
      "source": [
        "df.head() "
      ],
      "metadata": {
        "id": "QerWxUpYkYsw"
      },
      "execution_count": null,
      "outputs": []
    },
    {
      "cell_type": "code",
      "source": [
        "df.shape"
      ],
      "metadata": {
        "id": "6cbgLCv4kqkL"
      },
      "execution_count": null,
      "outputs": []
    },
    {
      "cell_type": "code",
      "source": [
        "df.info()"
      ],
      "metadata": {
        "colab": {
          "base_uri": "https://localhost:8080/"
        },
        "id": "Gj0LpBZFkvGq",
        "outputId": "b83c5410-d22e-44b4-dec9-0a33d1a4d650"
      },
      "execution_count": null,
      "outputs": [
        {
          "output_type": "stream",
          "name": "stdout",
          "text": [
            "<class 'pandas.core.frame.DataFrame'>\n",
            "RangeIndex: 5282 entries, 0 to 5281\n",
            "Data columns (total 20 columns):\n",
            " #   Column                    Non-Null Count  Dtype  \n",
            "---  ------                    --------------  -----  \n",
            " 0   ClientPeriod              5282 non-null   int64  \n",
            " 1   MonthlySpending           5282 non-null   float64\n",
            " 2   TotalSpent                5282 non-null   object \n",
            " 3   Sex                       5282 non-null   object \n",
            " 4   IsSeniorCitizen           5282 non-null   int64  \n",
            " 5   HasPartner                5282 non-null   object \n",
            " 6   HasChild                  5282 non-null   object \n",
            " 7   HasPhoneService           5282 non-null   object \n",
            " 8   HasMultiplePhoneNumbers   5282 non-null   object \n",
            " 9   HasInternetService        5282 non-null   object \n",
            " 10  HasOnlineSecurityService  5282 non-null   object \n",
            " 11  HasOnlineBackup           5282 non-null   object \n",
            " 12  HasDeviceProtection       5282 non-null   object \n",
            " 13  HasTechSupportAccess      5282 non-null   object \n",
            " 14  HasOnlineTV               5282 non-null   object \n",
            " 15  HasMovieSubscription      5282 non-null   object \n",
            " 16  HasContractPhone          5282 non-null   object \n",
            " 17  IsBillingPaperless        5282 non-null   object \n",
            " 18  PaymentMethod             5282 non-null   object \n",
            " 19  Churn                     5282 non-null   int64  \n",
            "dtypes: float64(1), int64(3), object(16)\n",
            "memory usage: 825.4+ KB\n"
          ]
        }
      ]
    },
    {
      "cell_type": "code",
      "source": [
        "sns.heatmap(df.isnull(),yticklabels=False,cbar=False,cmap='viridis')"
      ],
      "metadata": {
        "id": "n1XJ6b90kxE1"
      },
      "execution_count": null,
      "outputs": []
    },
    {
      "cell_type": "code",
      "source": [
        "df.describe()"
      ],
      "metadata": {
        "id": "nz_BWRJOk4dn"
      },
      "execution_count": null,
      "outputs": []
    },
    {
      "cell_type": "code",
      "source": [
        "df.nunique()"
      ],
      "metadata": {
        "id": "jnrJ9LbCk8AO"
      },
      "execution_count": null,
      "outputs": []
    },
    {
      "cell_type": "code",
      "source": [
        "feature_names = df.columns.tolist() \n",
        "for column in feature_names: \n",
        "    print(column) \n",
        "    print(\"----------------------------------\")\n",
        "    print(df[column].value_counts(dropna=False)) \n",
        "    print(\"==================================\")"
      ],
      "metadata": {
        "id": "5JGF0lPolA-9"
      },
      "execution_count": null,
      "outputs": []
    },
    {
      "cell_type": "code",
      "source": [
        "features = df.drop('Churn',1) \n",
        "labels = df['Churn'] \n",
        "print(features.head())"
      ],
      "metadata": {
        "colab": {
          "base_uri": "https://localhost:8080/"
        },
        "id": "UvsOA18mmGlP",
        "outputId": "fb0f9b90-f867-48e2-b7a6-da8ecd754754"
      },
      "execution_count": null,
      "outputs": [
        {
          "output_type": "stream",
          "name": "stdout",
          "text": [
            "   ClientPeriod  MonthlySpending TotalSpent     Sex  IsSeniorCitizen  \\\n",
            "0            55            19.50    1026.35    Male                0   \n",
            "1            72            25.85     1872.2    Male                0   \n",
            "2             1            75.90       75.9    Male                0   \n",
            "3            32            79.30       2570  Female                1   \n",
            "4            60           115.25    6758.45  Female                0   \n",
            "\n",
            "  HasPartner HasChild HasPhoneService HasMultiplePhoneNumbers  \\\n",
            "0        Yes      Yes             Yes                      No   \n",
            "1        Yes       No             Yes                     Yes   \n",
            "2         No       No             Yes                      No   \n",
            "3        Yes       No             Yes                     Yes   \n",
            "4        Yes      Yes             Yes                     Yes   \n",
            "\n",
            "  HasInternetService HasOnlineSecurityService      HasOnlineBackup  \\\n",
            "0                 No      No internet service  No internet service   \n",
            "1                 No      No internet service  No internet service   \n",
            "2        Fiber optic                       No                   No   \n",
            "3        Fiber optic                       No                   No   \n",
            "4        Fiber optic                      Yes                  Yes   \n",
            "\n",
            "   HasDeviceProtection HasTechSupportAccess          HasOnlineTV  \\\n",
            "0  No internet service  No internet service  No internet service   \n",
            "1  No internet service  No internet service  No internet service   \n",
            "2                   No                  Yes                   No   \n",
            "3                  Yes                   No                   No   \n",
            "4                  Yes                  Yes                  Yes   \n",
            "\n",
            "  HasMovieSubscription HasContractPhone IsBillingPaperless  \\\n",
            "0  No internet service         One year                 No   \n",
            "1  No internet service         Two year                 No   \n",
            "2                   No   Month-to-month                Yes   \n",
            "3                   No   Month-to-month                 No   \n",
            "4                  Yes         Two year                 No   \n",
            "\n",
            "             PaymentMethod  \n",
            "0             Mailed check  \n",
            "1  Credit card (automatic)  \n",
            "2         Electronic check  \n",
            "3             Mailed check  \n",
            "4  Credit card (automatic)  \n"
          ]
        },
        {
          "output_type": "stream",
          "name": "stderr",
          "text": [
            "<ipython-input-23-ad3b8c0b12ea>:1: FutureWarning: In a future version of pandas all arguments of DataFrame.drop except for the argument 'labels' will be keyword-only\n",
            "  features = df.drop('Churn',1)\n"
          ]
        }
      ]
    },
    {
      "cell_type": "code",
      "source": [
        "missing_counts = features.isnull().sum()\n",
        "missing_counts"
      ],
      "metadata": {
        "colab": {
          "base_uri": "https://localhost:8080/"
        },
        "id": "VEA887aqmr4u",
        "outputId": "27f43648-e871-456a-83d0-6d106112cec2"
      },
      "execution_count": null,
      "outputs": [
        {
          "output_type": "execute_result",
          "data": {
            "text/plain": [
              "ClientPeriod                0\n",
              "MonthlySpending             0\n",
              "TotalSpent                  0\n",
              "Sex                         0\n",
              "IsSeniorCitizen             0\n",
              "HasPartner                  0\n",
              "HasChild                    0\n",
              "HasPhoneService             0\n",
              "HasMultiplePhoneNumbers     0\n",
              "HasInternetService          0\n",
              "HasOnlineSecurityService    0\n",
              "HasOnlineBackup             0\n",
              "HasDeviceProtection         0\n",
              "HasTechSupportAccess        0\n",
              "HasOnlineTV                 0\n",
              "HasMovieSubscription        0\n",
              "HasContractPhone            0\n",
              "IsBillingPaperless          0\n",
              "PaymentMethod               0\n",
              "dtype: int64"
            ]
          },
          "metadata": {},
          "execution_count": 22
        }
      ]
    },
    {
      "cell_type": "code",
      "source": [
        "var_corr = round(features.corr(),3)\n",
        "print(var_corr)\n",
        "mask = np.zeros_like(var_corr)\n",
        "sns.heatmap(var_corr\n",
        "                , mask = mask\n",
        "                , square = True\n",
        "                , annot = True\n",
        "                , annot_kws={'size': 12, 'weight' : 'regular'}\n",
        "                , cmap=plt.get_cmap(\"RdYlBu\")\n",
        "                , linewidths=.1)\n",
        "plt.title('Карта корреляции', fontsize=14)\n",
        "plt.show()"
      ],
      "metadata": {
        "colab": {
          "base_uri": "https://localhost:8080/",
          "height": 428
        },
        "id": "BWIVYLLinAMb",
        "outputId": "2bd53be3-a3de-4517-985d-f24e42a4229b"
      },
      "execution_count": null,
      "outputs": [
        {
          "output_type": "stream",
          "name": "stdout",
          "text": [
            "                 ClientPeriod  MonthlySpending  IsSeniorCitizen\n",
            "ClientPeriod            1.000            0.249            0.012\n",
            "MonthlySpending         0.249            1.000            0.215\n",
            "IsSeniorCitizen         0.012            0.215            1.000\n"
          ]
        },
        {
          "output_type": "display_data",
          "data": {
            "text/plain": [
              "<Figure size 432x288 with 2 Axes>"
            ],
            "image/png": "[encoded data removed]"
          },
          "metadata": {
            "needs_background": "light"
          }
        }
      ]
    },
    {
      "cell_type": "code",
      "source": [
        "from sklearn.preprocessing import StandardScaler \n",
        "scale_features_std = StandardScaler() \n",
        "features[['ClientPeriod']]=scale_features_std.fit_transform(features[['ClientPeriod']]) \n",
        "print(features.head())"
      ],
      "metadata": {
        "colab": {
          "base_uri": "https://localhost:8080/"
        },
        "id": "cJFVVWUErZ4f",
        "outputId": "8162ecd7-3596-4e7e-f51e-80b0c05a01ae"
      },
      "execution_count": null,
      "outputs": [
        {
          "output_type": "stream",
          "name": "stdout",
          "text": [
            "   ClientPeriod  MonthlySpending TotalSpent     Sex  IsSeniorCitizen  \\\n",
            "0      0.920767            19.50    1026.35    Male                0   \n",
            "1      1.613288            25.85     1872.2    Male                0   \n",
            "2     -1.279005            75.90       75.9    Male                0   \n",
            "3     -0.016173            79.30       2570  Female                1   \n",
            "4      1.124450           115.25    6758.45  Female                0   \n",
            "\n",
            "  HasPartner HasChild HasPhoneService HasMultiplePhoneNumbers  \\\n",
            "0        Yes      Yes             Yes                      No   \n",
            "1        Yes       No             Yes                     Yes   \n",
            "2         No       No             Yes                      No   \n",
            "3        Yes       No             Yes                     Yes   \n",
            "4        Yes      Yes             Yes                     Yes   \n",
            "\n",
            "  HasInternetService HasOnlineSecurityService      HasOnlineBackup  \\\n",
            "0                 No      No internet service  No internet service   \n",
            "1                 No      No internet service  No internet service   \n",
            "2        Fiber optic                       No                   No   \n",
            "3        Fiber optic                       No                   No   \n",
            "4        Fiber optic                      Yes                  Yes   \n",
            "\n",
            "   HasDeviceProtection HasTechSupportAccess          HasOnlineTV  \\\n",
            "0  No internet service  No internet service  No internet service   \n",
            "1  No internet service  No internet service  No internet service   \n",
            "2                   No                  Yes                   No   \n",
            "3                  Yes                   No                   No   \n",
            "4                  Yes                  Yes                  Yes   \n",
            "\n",
            "  HasMovieSubscription HasContractPhone IsBillingPaperless  \\\n",
            "0  No internet service         One year                 No   \n",
            "1  No internet service         Two year                 No   \n",
            "2                   No   Month-to-month                Yes   \n",
            "3                   No   Month-to-month                 No   \n",
            "4                  Yes         Two year                 No   \n",
            "\n",
            "             PaymentMethod  \n",
            "0             Mailed check  \n",
            "1  Credit card (automatic)  \n",
            "2         Electronic check  \n",
            "3             Mailed check  \n",
            "4  Credit card (automatic)  \n"
          ]
        }
      ]
    },
    {
      "cell_type": "code",
      "source": [
        "features[\"ClientPeriod\"] = df[\"ClientPeriod\"]\n",
        "features['ClientPeriod'] = features['ClientPeriod'].fillna(features['ClientPeriod'].mean())\n",
        "print(features.head())\n",
        "\n",
        "from sklearn.preprocessing import MinMaxScaler \n",
        "scale_features_mm = MinMaxScaler() \n",
        "features[[\"ClientPeriod\"]] = scale_features_mm.fit_transform(features[[\"ClientPeriod\"]]) \n",
        "print(features.head())"
      ],
      "metadata": {
        "colab": {
          "base_uri": "https://localhost:8080/"
        },
        "id": "qDzqEjNeriY0",
        "outputId": "843ea7d3-7a7f-40d6-b90e-986ee35cdce0"
      },
      "execution_count": null,
      "outputs": [
        {
          "output_type": "stream",
          "name": "stdout",
          "text": [
            "   ClientPeriod  MonthlySpending TotalSpent     Sex  IsSeniorCitizen  \\\n",
            "0            55            19.50    1026.35    Male                0   \n",
            "1            72            25.85     1872.2    Male                0   \n",
            "2             1            75.90       75.9    Male                0   \n",
            "3            32            79.30       2570  Female                1   \n",
            "4            60           115.25    6758.45  Female                0   \n",
            "\n",
            "  HasPartner HasChild HasPhoneService HasMultiplePhoneNumbers  \\\n",
            "0        Yes      Yes             Yes                      No   \n",
            "1        Yes       No             Yes                     Yes   \n",
            "2         No       No             Yes                      No   \n",
            "3        Yes       No             Yes                     Yes   \n",
            "4        Yes      Yes             Yes                     Yes   \n",
            "\n",
            "  HasInternetService HasOnlineSecurityService      HasOnlineBackup  \\\n",
            "0                 No      No internet service  No internet service   \n",
            "1                 No      No internet service  No internet service   \n",
            "2        Fiber optic                       No                   No   \n",
            "3        Fiber optic                       No                   No   \n",
            "4        Fiber optic                      Yes                  Yes   \n",
            "\n",
            "   HasDeviceProtection HasTechSupportAccess          HasOnlineTV  \\\n",
            "0  No internet service  No internet service  No internet service   \n",
            "1  No internet service  No internet service  No internet service   \n",
            "2                   No                  Yes                   No   \n",
            "3                  Yes                   No                   No   \n",
            "4                  Yes                  Yes                  Yes   \n",
            "\n",
            "  HasMovieSubscription HasContractPhone IsBillingPaperless  \\\n",
            "0  No internet service         One year                 No   \n",
            "1  No internet service         Two year                 No   \n",
            "2                   No   Month-to-month                Yes   \n",
            "3                   No   Month-to-month                 No   \n",
            "4                  Yes         Two year                 No   \n",
            "\n",
            "             PaymentMethod  \n",
            "0             Mailed check  \n",
            "1  Credit card (automatic)  \n",
            "2         Electronic check  \n",
            "3             Mailed check  \n",
            "4  Credit card (automatic)  \n",
            "   ClientPeriod  MonthlySpending TotalSpent     Sex  IsSeniorCitizen  \\\n",
            "0      0.763889            19.50    1026.35    Male                0   \n",
            "1      1.000000            25.85     1872.2    Male                0   \n",
            "2      0.013889            75.90       75.9    Male                0   \n",
            "3      0.444444            79.30       2570  Female                1   \n",
            "4      0.833333           115.25    6758.45  Female                0   \n",
            "\n",
            "  HasPartner HasChild HasPhoneService HasMultiplePhoneNumbers  \\\n",
            "0        Yes      Yes             Yes                      No   \n",
            "1        Yes       No             Yes                     Yes   \n",
            "2         No       No             Yes                      No   \n",
            "3        Yes       No             Yes                     Yes   \n",
            "4        Yes      Yes             Yes                     Yes   \n",
            "\n",
            "  HasInternetService HasOnlineSecurityService      HasOnlineBackup  \\\n",
            "0                 No      No internet service  No internet service   \n",
            "1                 No      No internet service  No internet service   \n",
            "2        Fiber optic                       No                   No   \n",
            "3        Fiber optic                       No                   No   \n",
            "4        Fiber optic                      Yes                  Yes   \n",
            "\n",
            "   HasDeviceProtection HasTechSupportAccess          HasOnlineTV  \\\n",
            "0  No internet service  No internet service  No internet service   \n",
            "1  No internet service  No internet service  No internet service   \n",
            "2                   No                  Yes                   No   \n",
            "3                  Yes                   No                   No   \n",
            "4                  Yes                  Yes                  Yes   \n",
            "\n",
            "  HasMovieSubscription HasContractPhone IsBillingPaperless  \\\n",
            "0  No internet service         One year                 No   \n",
            "1  No internet service         Two year                 No   \n",
            "2                   No   Month-to-month                Yes   \n",
            "3                   No   Month-to-month                 No   \n",
            "4                  Yes         Two year                 No   \n",
            "\n",
            "             PaymentMethod  \n",
            "0             Mailed check  \n",
            "1  Credit card (automatic)  \n",
            "2         Electronic check  \n",
            "3             Mailed check  \n",
            "4  Credit card (automatic)  \n"
          ]
        }
      ]
    },
    {
      "cell_type": "code",
      "source": [
        "from sklearn.model_selection import train_test_split \n",
        "\n",
        "features_train, features_test, labels_train, labels_test = train_test_split(features, labels, test_size=0.2, random_state = 0) \n",
        "\n",
        "print(features.shape)\n",
        "print(features_train.shape)\n",
        "print(features_test.shape)"
      ],
      "metadata": {
        "id": "KAeYBiGgrvTK",
        "outputId": "2f134443-9142-4989-b616-8b2bee1282c6",
        "colab": {
          "base_uri": "https://localhost:8080/"
        }
      },
      "execution_count": null,
      "outputs": [
        {
          "output_type": "stream",
          "name": "stdout",
          "text": [
            "(5282, 19)\n",
            "(4225, 19)\n",
            "(1057, 19)\n"
          ]
        }
      ]
    }
  ]
}
