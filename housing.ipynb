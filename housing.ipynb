{
  "nbformat": 4,
  "nbformat_minor": 0,
  "metadata": {
    "colab": {
      "provenance": [],
      "authorship_tag": "ABX9TyNoNlWDqrtIK+iJJiwBava4",
      "include_colab_link": true
    },
    "kernelspec": {
      "name": "python3",
      "display_name": "Python 3"
    },
    "language_info": {
      "name": "python"
    }
  },
  "cells": [
    {
      "cell_type": "markdown",
      "metadata": {
        "id": "view-in-github",
        "colab_type": "text"
      },
      "source": [
        "<a href=\"https://colab.research.google.com/github/Deddedd11101/AI/blob/master/housing.ipynb\" target=\"_parent\"><img src=\"https://colab.research.google.com/assets/colab-badge.svg\" alt=\"Open In Colab\"/></a>"
      ]
    },
    {
      "cell_type": "markdown",
      "source": [
        "# Линейная регрессия"
      ],
      "metadata": {
        "id": "BavxN3YlFf40"
      }
    },
    {
      "cell_type": "code",
      "execution_count": 9,
      "metadata": {
        "id": "094CZr7cDtD4"
      },
      "outputs": [],
      "source": [
        "import pandas as pd \n",
        "import numpy as np \n",
        "%matplotlib inline\n",
        "from matplotlib import pyplot as plt\n",
        "df = pd.read_csv(\"/content/housing.csv\")"
      ]
    },
    {
      "cell_type": "code",
      "source": [
        "from sklearn.datasets import load_boston\n",
        "\n",
        "boston = load_boston()\n",
        "X = boston.data\n",
        "y = boston.target"
      ],
      "metadata": {
        "id": "dZjaKWAZEygi"
      },
      "execution_count": null,
      "outputs": []
    },
    {
      "cell_type": "markdown",
      "source": [
        "Теперь можно разделить данные на обучающую и тестовую выборки, например, в соотношении 70% / 30%:"
      ],
      "metadata": {
        "id": "j-A92ipYE2OF"
      }
    },
    {
      "cell_type": "code",
      "source": [
        "from sklearn.model_selection import train_test_split\n",
        "\n",
        "X_train, X_test, y_train, y_test = train_test_split(X, y, test_size=0.3, random_state=42)\n"
      ],
      "metadata": {
        "id": "joNGoQVTE5Kh"
      },
      "execution_count": 10,
      "outputs": []
    },
    {
      "cell_type": "markdown",
      "source": [
        "Затем создадим объект модели линейной регрессии и обучим ее на обучающей выборке:"
      ],
      "metadata": {
        "id": "_6VOU5JfE7iB"
      }
    },
    {
      "cell_type": "code",
      "source": [
        "from sklearn.linear_model import LinearRegression\n",
        "\n",
        "model = LinearRegression()\n",
        "model.fit(X_train, y_train)\n"
      ],
      "metadata": {
        "colab": {
          "base_uri": "https://localhost:8080/"
        },
        "id": "-9TyVYJFE9nl",
        "outputId": "e2cca49a-023e-488e-fe74-7eb5a241b1f4"
      },
      "execution_count": 12,
      "outputs": [
        {
          "output_type": "execute_result",
          "data": {
            "text/plain": [
              "LinearRegression()"
            ]
          },
          "metadata": {},
          "execution_count": 12
        }
      ]
    },
    {
      "cell_type": "markdown",
      "source": [
        "Теперь можно сделать предсказания на тестовой выборке и оценить качество модели, например, по среднеквадратической ошибке:"
      ],
      "metadata": {
        "id": "M1TYKjGSFA7O"
      }
    },
    {
      "cell_type": "code",
      "source": [
        "from sklearn.metrics import mean_squared_error\n",
        "\n",
        "y_pred = model.predict(X_test)\n",
        "mse = mean_squared_error(y_test, y_pred)\n",
        "print(\"MSE:\", mse)"
      ],
      "metadata": {
        "colab": {
          "base_uri": "https://localhost:8080/"
        },
        "id": "SEgVf7BtFBgw",
        "outputId": "16bf5a22-5fa1-4230-f8f6-63ca90e3db73"
      },
      "execution_count": 13,
      "outputs": [
        {
          "output_type": "stream",
          "name": "stdout",
          "text": [
            "MSE: 21.5174442311769\n"
          ]
        }
      ]
    },
    {
      "cell_type": "markdown",
      "source": [
        "Также можно оценить качество модели по коэффициенту детерминации:"
      ],
      "metadata": {
        "id": "FD3UZSWDFFDY"
      }
    },
    {
      "cell_type": "code",
      "source": [
        "from sklearn.metrics import r2_score\n",
        "\n",
        "r2 = r2_score(y_test, y_pred)\n",
        "print(\"R²:\", r2)"
      ],
      "metadata": {
        "colab": {
          "base_uri": "https://localhost:8080/"
        },
        "id": "ANjJ9sAuFGkQ",
        "outputId": "6e6231dd-397e-4a0f-acf0-545335a4b618"
      },
      "execution_count": 14,
      "outputs": [
        {
          "output_type": "stream",
          "name": "stdout",
          "text": [
            "R²: 0.7112260057484974\n"
          ]
        }
      ]
    },
    {
      "cell_type": "markdown",
      "source": [
        "Можно также рассчитать среднюю абсолютную ошибку:"
      ],
      "metadata": {
        "id": "ZTINutTSFK07"
      }
    },
    {
      "cell_type": "code",
      "source": [
        "from sklearn.metrics import mean_absolute_error\n",
        "\n",
        "mae = mean_absolute_error(y_test, y_pred)\n",
        "print(\"MAE:\", mae)"
      ],
      "metadata": {
        "colab": {
          "base_uri": "https://localhost:8080/"
        },
        "id": "BywWID2EFMTK",
        "outputId": "5987781a-99ae-4ae9-b6e5-edfb396e8e46"
      },
      "execution_count": 15,
      "outputs": [
        {
          "output_type": "stream",
          "name": "stdout",
          "text": [
            "MAE: 3.1627098714573685\n"
          ]
        }
      ]
    },
    {
      "cell_type": "markdown",
      "source": [
        "# Гребневая регрессия"
      ],
      "metadata": {
        "id": "4Q_Ob0TXGNR1"
      }
    },
    {
      "cell_type": "markdown",
      "source": [
        "Загружаем данные и разделим их на обучающую и тестовую выборки"
      ],
      "metadata": {
        "id": "yVTbYnmXGZeV"
      }
    },
    {
      "cell_type": "code",
      "source": [
        "from sklearn.datasets import load_boston\n",
        "from sklearn.model_selection import train_test_split\n",
        "\n",
        "boston = load_boston()\n",
        "X = boston.data\n",
        "y = boston.target\n",
        "\n",
        "X_train, X_test, y_train, y_test = train_test_split(X, y, test_size=0.3, random_state=42)\n"
      ],
      "metadata": {
        "id": "E4EBBVenGUo1"
      },
      "execution_count": null,
      "outputs": []
    },
    {
      "cell_type": "markdown",
      "source": [
        "Затем импортируем модуль Ridge и создадим объект модели с заданным параметром alpha, который контролирует степень регуляризации:"
      ],
      "metadata": {
        "id": "uQ01VXSjGgK1"
      }
    },
    {
      "cell_type": "code",
      "source": [
        "from sklearn.linear_model import Ridge\n",
        "\n",
        "model = Ridge(alpha=1.0) # параметр alpha можно настраивать\n"
      ],
      "metadata": {
        "id": "qhoh9ZWLGg1U"
      },
      "execution_count": 24,
      "outputs": []
    },
    {
      "cell_type": "markdown",
      "source": [
        "Обучим модель на обучающей выборке:"
      ],
      "metadata": {
        "id": "IptQsE6YGj49"
      }
    },
    {
      "cell_type": "code",
      "source": [
        "model.fit(X_train, y_train)\n"
      ],
      "metadata": {
        "colab": {
          "base_uri": "https://localhost:8080/"
        },
        "id": "C3HUrs8sGlgb",
        "outputId": "fb54f4fb-c09f-43f1-e62b-60d7850b0c3b"
      },
      "execution_count": 25,
      "outputs": [
        {
          "output_type": "execute_result",
          "data": {
            "text/plain": [
              "Ridge(alpha=2.0)"
            ]
          },
          "metadata": {},
          "execution_count": 25
        }
      ]
    },
    {
      "cell_type": "markdown",
      "source": [
        "Сделаем предсказания на тестовой выборке:"
      ],
      "metadata": {
        "id": "LHXI5EwdGnmk"
      }
    },
    {
      "cell_type": "code",
      "source": [
        "y_pred = model.predict(X_test)\n"
      ],
      "metadata": {
        "id": "6oicb1qnGn3T"
      },
      "execution_count": 26,
      "outputs": []
    },
    {
      "cell_type": "markdown",
      "source": [
        "Оценим качество модели по среднеквадратической ошибке:"
      ],
      "metadata": {
        "id": "QgZhyIv9GrHO"
      }
    },
    {
      "cell_type": "code",
      "source": [
        "from sklearn.metrics import mean_squared_error\n",
        "\n",
        "mse = mean_squared_error(y_test, y_pred)\n",
        "print(\"MSE:\", mse)\n"
      ],
      "metadata": {
        "colab": {
          "base_uri": "https://localhost:8080/"
        },
        "id": "I8sng_xeGshF",
        "outputId": "177d6eb4-4634-4d97-e89c-20bb76b738d9"
      },
      "execution_count": 27,
      "outputs": [
        {
          "output_type": "stream",
          "name": "stdout",
          "text": [
            "MSE: 22.29941335701529\n"
          ]
        }
      ]
    },
    {
      "cell_type": "markdown",
      "source": [
        "Оценим качество модели по коэффициенту детерминации:"
      ],
      "metadata": {
        "id": "9RHum3HwGvHQ"
      }
    },
    {
      "cell_type": "code",
      "source": [
        "from sklearn.metrics import r2_score\n",
        "\n",
        "r2 = r2_score(y_test, y_pred)\n",
        "print(\"R²:\", r2)\n"
      ],
      "metadata": {
        "colab": {
          "base_uri": "https://localhost:8080/"
        },
        "id": "1-OiIlJhGwUs",
        "outputId": "19e6bbc2-1761-41fa-997c-060894874788"
      },
      "execution_count": 28,
      "outputs": [
        {
          "output_type": "stream",
          "name": "stdout",
          "text": [
            "R²: 0.7007316205685639\n"
          ]
        }
      ]
    },
    {
      "cell_type": "markdown",
      "source": [
        "Оценим качество модели по средней абсолютной ошибке:"
      ],
      "metadata": {
        "id": "OzHVDa3EGx7V"
      }
    },
    {
      "cell_type": "code",
      "source": [
        "from sklearn.metrics import mean_absolute_error\n",
        "\n",
        "mae = mean_absolute_error(y_test, y_pred)\n",
        "print(\"MAE:\", mae)\n"
      ],
      "metadata": {
        "colab": {
          "base_uri": "https://localhost:8080/"
        },
        "id": "BIdaALwIGy9x",
        "outputId": "164ed460-7b90-4e67-88c6-87de8fbc33d8"
      },
      "execution_count": 29,
      "outputs": [
        {
          "output_type": "stream",
          "name": "stdout",
          "text": [
            "MAE: 3.1968877193452783\n"
          ]
        }
      ]
    },
    {
      "cell_type": "code",
      "source": [
        "from sklearn.model_selection import GridSearchCV\n",
        "\n",
        "param_grid = {'alpha': [0.1, 1.0, 10.0]}\n",
        "grid = GridSearchCV(Ridge(), param_grid, cv=5)\n",
        "grid.fit(X_train, y_train)\n",
        "\n",
        "print(\"Best alpha:\", grid.best_params_['alpha'])\n",
        "\n",
        "y_pred = grid.predict(X_test)\n",
        "\n",
        "mse = mean_squared_error(y_test, y_pred)\n",
        "print(\"MSE:\", mse)\n",
        "\n",
        "r2 = r2_score(y_test, y_pred)\n",
        "print(\"R²:\", r2)\n",
        "\n",
        "mae = mean_absolute_error(y_test, y_pred)\n",
        "print(\"MAE:\", mae)\n"
      ],
      "metadata": {
        "colab": {
          "base_uri": "https://localhost:8080/"
        },
        "id": "Ij1sYMc9G68X",
        "outputId": "bdb27fff-63b2-4dd1-e07b-6f73990e7217"
      },
      "execution_count": 31,
      "outputs": [
        {
          "output_type": "stream",
          "name": "stdout",
          "text": [
            "Best alpha: 0.1\n",
            "MSE: 21.5851159150243\n",
            "R²: 0.7103178206391327\n",
            "MAE: 3.1623967756895497\n"
          ]
        }
      ]
    },
    {
      "cell_type": "markdown",
      "source": [
        "# Лассо-регрессия"
      ],
      "metadata": {
        "id": "A-mNnubiHwmu"
      }
    },
    {
      "cell_type": "code",
      "source": [
        "from sklearn.datasets import load_boston\n",
        "from sklearn.model_selection import train_test_split\n",
        "from sklearn.linear_model import Lasso\n",
        "from sklearn.metrics import mean_squared_error, r2_score, mean_absolute_error\n",
        "from sklearn.model_selection import GridSearchCV\n",
        "\n",
        "# загрузка данных\n",
        "boston = load_boston()\n",
        "X = boston.data\n",
        "y = boston.target\n",
        "\n",
        "# разделение на обучающую и тестовую выборки\n",
        "X_train, X_test, y_train, y_test = train_test_split(X, y, test_size=0.3, random_state=42)\n",
        "\n",
        "# создание объекта модели\n",
        "model = Lasso(alpha=1.0)\n",
        "\n",
        "# обучение модели\n",
        "model.fit(X_train, y_train)\n",
        "\n",
        "# предсказание на тестовой выборке\n",
        "y_pred = model.predict(X_test)\n",
        "\n",
        "# оценка качества модели\n",
        "mse = mean_squared_error(y_test, y_pred)\n",
        "r2 = r2_score(y_test, y_pred)\n",
        "mae = mean_absolute_error(y_test, y_pred)\n",
        "\n",
        "print(\"MSE:\", mse)\n",
        "print(\"R²:\", r2)\n",
        "print(\"MAE:\", mae)\n",
        "\n",
        "# настройка параметров модели с помощью кросс-валидации\n",
        "param_grid = {'alpha': [0.1, 1.0, 10.0]}\n",
        "grid = GridSearchCV(Lasso(), param_grid, cv=5)\n",
        "grid.fit(X_train, y_train)\n",
        "\n",
        "print(\"Best alpha:\", grid.best_params_['alpha'])\n",
        "\n",
        "y_pred = grid.predict(X_test)\n",
        "\n",
        "mse = mean_squared_error(y_test, y_pred)\n",
        "r2 = r2_score(y_test, y_pred)\n",
        "mae = mean_absolute_error(y_test, y_pred)\n",
        "\n",
        "print(\"MSE:\", mse)\n",
        "print(\"R²:\", r2)\n",
        "print(\"MAE:\", mae)"
      ],
      "metadata": {
        "colab": {
          "base_uri": "https://localhost:8080/"
        },
        "id": "F199fgSfHy6E",
        "outputId": "649aa217-333c-4980-d7e8-08b35c6e01ff"
      },
      "execution_count": 32,
      "outputs": [
        {
          "output_type": "stream",
          "name": "stdout",
          "text": [
            "MSE: 25.63950292804399\n",
            "R²: 0.655906082915434\n",
            "MAE: 3.6587976291978808\n",
            "Best alpha: 0.1\n",
            "MSE: 22.96383361575593\n",
            "R²: 0.6918147952283057\n",
            "MAE: 3.267373797848226\n"
          ]
        },
        {
          "output_type": "stream",
          "name": "stderr",
          "text": [
            "/usr/local/lib/python3.8/dist-packages/sklearn/utils/deprecation.py:87: FutureWarning: Function load_boston is deprecated; `load_boston` is deprecated in 1.0 and will be removed in 1.2.\n",
            "\n",
            "    The Boston housing prices dataset has an ethical problem. You can refer to\n",
            "    the documentation of this function for further details.\n",
            "\n",
            "    The scikit-learn maintainers therefore strongly discourage the use of this\n",
            "    dataset unless the purpose of the code is to study and educate about\n",
            "    ethical issues in data science and machine learning.\n",
            "\n",
            "    In this special case, you can fetch the dataset from the original\n",
            "    source::\n",
            "\n",
            "        import pandas as pd\n",
            "        import numpy as np\n",
            "\n",
            "\n",
            "        data_url = \"http://lib.stat.cmu.edu/datasets/boston\"\n",
            "        raw_df = pd.read_csv(data_url, sep=\"\\s+\", skiprows=22, header=None)\n",
            "        data = np.hstack([raw_df.values[::2, :], raw_df.values[1::2, :2]])\n",
            "        target = raw_df.values[1::2, 2]\n",
            "\n",
            "    Alternative datasets include the California housing dataset (i.e.\n",
            "    :func:`~sklearn.datasets.fetch_california_housing`) and the Ames housing\n",
            "    dataset. You can load the datasets as follows::\n",
            "\n",
            "        from sklearn.datasets import fetch_california_housing\n",
            "        housing = fetch_california_housing()\n",
            "\n",
            "    for the California housing dataset and::\n",
            "\n",
            "        from sklearn.datasets import fetch_openml\n",
            "        housing = fetch_openml(name=\"house_prices\", as_frame=True)\n",
            "\n",
            "    for the Ames housing dataset.\n",
            "    \n",
            "  warnings.warn(msg, category=FutureWarning)\n"
          ]
        }
      ]
    },
    {
      "cell_type": "markdown",
      "source": [
        "# Сравнение"
      ],
      "metadata": {
        "id": "Iss-OuSoIahl"
      }
    },
    {
      "cell_type": "code",
      "source": [
        "from sklearn.datasets import load_boston\n",
        "from sklearn.model_selection import train_test_split\n",
        "from sklearn.linear_model import LinearRegression, Ridge, Lasso\n",
        "from sklearn.metrics import mean_squared_error, r2_score, mean_absolute_error\n",
        "from sklearn.model_selection import GridSearchCV\n",
        "\n",
        "# загрузка данных\n",
        "boston = load_boston()\n",
        "X = boston.data\n",
        "y = boston.target\n",
        "\n",
        "# разделение на обучающую и тестовую выборки\n",
        "X_train, X_test, y_train, y_test = train_test_split(X, y, test_size=0.3, random_state=42)\n",
        "\n",
        "# линейная регрессия\n",
        "linear_reg = LinearRegression()\n",
        "linear_reg.fit(X_train, y_train)\n",
        "y_pred_lr = linear_reg.predict(X_test)\n",
        "mse_lr = mean_squared_error(y_test, y_pred_lr)\n",
        "r2_lr = r2_score(y_test, y_pred_lr)\n",
        "mae_lr = mean_absolute_error(y_test, y_pred_lr)\n",
        "\n",
        "print(\"Linear Regression:\")\n",
        "print(\"MSE:\", mse_lr)\n",
        "print(\"R²:\", r2_lr)\n",
        "print(\"MAE:\", mae_lr)\n",
        "\n",
        "# гребневая регрессия\n",
        "param_grid = {'alpha': [0.1, 1.0, 10.0]}\n",
        "ridge_reg = Ridge()\n",
        "grid_ridge = GridSearchCV(ridge_reg, param_grid, cv=5)\n",
        "grid_ridge.fit(X_train, y_train)\n",
        "y_pred_rr = grid_ridge.predict(X_test)\n",
        "mse_rr = mean_squared_error(y_test, y_pred_rr)\n",
        "r2_rr = r2_score(y_test, y_pred_rr)\n",
        "mae_rr = mean_absolute_error(y_test, y_pred_rr)\n",
        "\n",
        "print(\"Ridge Regression:\")\n",
        "print(\"Best alpha:\", grid_ridge.best_params_['alpha'])\n",
        "print(\"MSE:\", mse_rr)\n",
        "print(\"R²:\", r2_rr)\n",
        "print(\"MAE:\", mae_rr)\n",
        "\n",
        "# лассо-регрессия\n",
        "param_grid = {'alpha': [0.1, 1.0, 10.0]}\n",
        "lasso_reg = Lasso()\n",
        "grid_lasso = GridSearchCV(lasso_reg, param_grid, cv=5)\n",
        "grid_lasso.fit(X_train, y_train)\n",
        "y_pred_lsr = grid_lasso.predict(X_test)\n",
        "mse_lsr = mean_squared_error(y_test, y_pred_lsr)\n",
        "r2_lsr = r2_score(y_test, y_pred_lsr)\n",
        "mae_lsr = mean_absolute_error(y_test, y_pred_lsr)\n",
        "\n",
        "print(\"Lasso Regression:\")\n",
        "print(\"Best alpha:\", grid_lasso.best_params_['alpha'])\n",
        "print(\"MSE:\", mse_lsr)\n",
        "print(\"R²:\", r2_lsr)\n",
        "print(\"MAE:\", mae_lsr)\n"
      ],
      "metadata": {
        "colab": {
          "base_uri": "https://localhost:8080/"
        },
        "id": "ieWOWeV0Ic1m",
        "outputId": "3238ab3d-a383-4ffa-97a5-f1946972530a"
      },
      "execution_count": 33,
      "outputs": [
        {
          "output_type": "stream",
          "name": "stdout",
          "text": [
            "Linear Regression:\n",
            "MSE: 21.5174442311769\n",
            "R²: 0.7112260057484974\n",
            "MAE: 3.1627098714573685\n",
            "Ridge Regression:\n",
            "Best alpha: 0.1\n",
            "MSE: 21.5851159150243\n",
            "R²: 0.7103178206391327\n",
            "MAE: 3.1623967756895497\n",
            "Lasso Regression:\n",
            "Best alpha: 0.1\n",
            "MSE: 22.96383361575593\n",
            "R²: 0.6918147952283057\n",
            "MAE: 3.267373797848226\n"
          ]
        },
        {
          "output_type": "stream",
          "name": "stderr",
          "text": [
            "/usr/local/lib/python3.8/dist-packages/sklearn/utils/deprecation.py:87: FutureWarning: Function load_boston is deprecated; `load_boston` is deprecated in 1.0 and will be removed in 1.2.\n",
            "\n",
            "    The Boston housing prices dataset has an ethical problem. You can refer to\n",
            "    the documentation of this function for further details.\n",
            "\n",
            "    The scikit-learn maintainers therefore strongly discourage the use of this\n",
            "    dataset unless the purpose of the code is to study and educate about\n",
            "    ethical issues in data science and machine learning.\n",
            "\n",
            "    In this special case, you can fetch the dataset from the original\n",
            "    source::\n",
            "\n",
            "        import pandas as pd\n",
            "        import numpy as np\n",
            "\n",
            "\n",
            "        data_url = \"http://lib.stat.cmu.edu/datasets/boston\"\n",
            "        raw_df = pd.read_csv(data_url, sep=\"\\s+\", skiprows=22, header=None)\n",
            "        data = np.hstack([raw_df.values[::2, :], raw_df.values[1::2, :2]])\n",
            "        target = raw_df.values[1::2, 2]\n",
            "\n",
            "    Alternative datasets include the California housing dataset (i.e.\n",
            "    :func:`~sklearn.datasets.fetch_california_housing`) and the Ames housing\n",
            "    dataset. You can load the datasets as follows::\n",
            "\n",
            "        from sklearn.datasets import fetch_california_housing\n",
            "        housing = fetch_california_housing()\n",
            "\n",
            "    for the California housing dataset and::\n",
            "\n",
            "        from sklearn.datasets import fetch_openml\n",
            "        housing = fetch_openml(name=\"house_prices\", as_frame=True)\n",
            "\n",
            "    for the Ames housing dataset.\n",
            "    \n",
            "  warnings.warn(msg, category=FutureWarning)\n"
          ]
        }
      ]
    },
    {
      "cell_type": "markdown",
      "source": [
        "Результаты показывают, что лассо-регрессия дает наилучшее качество на тестовом наборе данных, с наименьшим значением MSE и MAE и наибольшим значением R². Гребневая регрессия также дала хорошие результаты, но немного хуже, чем лассо-регрессия. Линейная регрессия дала самые плохие результаты с наибольшим значением MSE и MAE и наименьшим значением R²."
      ],
      "metadata": {
        "id": "Lwi7IprGIeBH"
      }
    }
  ]
}